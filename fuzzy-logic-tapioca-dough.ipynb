{
 "cells": [
  {
   "cell_type": "code",
   "execution_count": 15,
   "metadata": {},
   "outputs": [],
   "source": [
    "import skfuzzy\n",
    "import numpy as np"
   ]
  },
  {
   "cell_type": "code",
   "execution_count": null,
   "metadata": {},
   "outputs": [],
   "source": [
    "# #water content [%]\n",
    "# veryLow_left = 0\n",
    "# veryLow_right = 15\n",
    "# low_left = 16\n",
    "# low_right = 29\n",
    "# medium_left = 30\n",
    "# medium_right = 35\n",
    "# high_left = 36\n",
    "# high_right = 49\n",
    "# veryHigh_left = 50\n",
    "# veryHigh_right = 100\n",
    "\n",
    "# #water temperature [Celcius]\n",
    "# low_left = None\n",
    "# low_right = 84\n",
    "# medium_left = 85\n",
    "# medium_right = 93\n",
    "# high_left = 94\n",
    "# high_right = 99\n",
    "# veryHigh = 100 \n",
    "\n",
    "# #current [%Stall]\n",
    "# low_left = 0\n",
    "# low_right = 29\n",
    "# medium_left = 30\n",
    "# medium_right = 69\n",
    "# high_left = 70\n",
    "# high_right = 100"
   ]
  },
  {
   "cell_type": "code",
   "execution_count": 254,
   "metadata": {},
   "outputs": [],
   "source": [
    "class FuzzyDecisionFusion():\n",
    "    def __init__(self):\n",
    "        self.classes = ['Liquid','Oobleck','Soft dough','Dough','Dry dough','Crumbs']\n",
    "    \n",
    "    def set_params(self,params):\n",
    "        self.content = np.array([params[0]])\n",
    "        self.temperature = np.array([params[1]])\n",
    "        self.current = np.array([params[2]])\n",
    "        \n",
    "        self.membership_content()\n",
    "        self.membership_temperature()\n",
    "        self.membership_current()\n",
    "        \n",
    "    def membership_content(self):\n",
    "        veryLow_trapL = np.array([0,0,15,20])\n",
    "        low_tri = np.array([15,22.5,29])\n",
    "        med_gauss_mean, med_gauss_sigma = (33.33,0.5)\n",
    "        high_tri = np.array([36,42.5,49])\n",
    "        veryHigh_trapR = np.array([50,70,100,100])\n",
    "        \n",
    "        p_veryLow = skfuzzy.trapmf(self.content,veryLow_trapL)\n",
    "        p_low = skfuzzy.trimf(self.content,low_tri)\n",
    "        p_med = skfuzzy.gaussmf(self.content,med_gauss_mean,med_gauss_sigma)\n",
    "        p_high = skfuzzy.trimf(self.content,high_tri)\n",
    "        p_veryHigh = skfuzzy.trapmf(self.content, veryHigh_trapR)\n",
    "        \n",
    "        self.possibility_content = np.array([p_veryLow,p_low,p_med,p_high,p_veryHigh])        \n",
    "        self.content_segment = self.defuzz(self.possibility_content)\n",
    "        \n",
    "    def membership_temperature(self):\n",
    "        low_trapL = np.array([0,0,84,90])\n",
    "        med_tri = np.array([85,89,95])\n",
    "        high_tri = np.array([94,96.5,99])\n",
    "        veryHigh_single = 100\n",
    "        \n",
    "        p_low = skfuzzy.trapmf(self.temperature,low_trapL)\n",
    "        p_med = skfuzzy.trimf(self.temperature,med_tri)\n",
    "        p_high = skfuzzy.trimf(self.temperature,high_tri)\n",
    "        p_veryHigh = np.array([1 if self.temperature==veryHigh_single else 0])\n",
    "        self.possibility_temperature = np.array([p_low,p_med,p_high,p_veryHigh])\n",
    "        self.temp_segment = self.defuzz(self.possibility_temperature)\n",
    "    \n",
    "    def membership_current(self):\n",
    "        low_trapL = np.array([0,0,30,38])\n",
    "        med_tri = np.array([30,49.5,77])\n",
    "        high_trapR = np.array([60,80,100,100])\n",
    "        \n",
    "        p_low = skfuzzy.trapmf(self.current,low_trapL)\n",
    "        p_med = skfuzzy.trimf(self.current,med_tri)\n",
    "        p_high = skfuzzy.trapmf(self.current,high_trapR)\n",
    "        \n",
    "        self.possibility_current = np.array([p_low,p_med,p_high])\n",
    "        self.current_segment = self.defuzz(self.possibility_current)\n",
    "    \n",
    "    def defuzz(self,membership):\n",
    "        return np.argmax(membership)\n",
    "        \n",
    "    def decision(self):\n",
    "        # Classification: Liquid [0]\n",
    "        isLiquidContent = (self.content_segment in range(3,5))\n",
    "        isLiquidTemperature = (self.temp_segment in range(2,4))\n",
    "        isLiquidCurrent = (self.current_segment==0)\n",
    "        if isLiquidContent and isLiquidTemperature and isLiquidCurrent:\n",
    "            return self.classes[0]\n",
    "            \n",
    "        \n",
    "        #Classification: Oobleck [1]\n",
    "        isOobleckContent = (self.content_segment in range(3))\n",
    "        isOobleckTemperature = (self.temp_segment in range(2))\n",
    "        isOobleckCurrent = (self.current_segment==2)\n",
    "        if isOobleckContent and isOobleckTemperature and isOobleckCurrent:\n",
    "             return self.classes[1]\n",
    "            \n",
    "        # Classification: Soft Dough [2]\n",
    "        isSoftDoughContent = (self.content_segment==2)\n",
    "        isSoftDoughTemperature = (self.temp_segment in range(1,3))\n",
    "        isSoftDoughCurrent = (self.current_segment==1)\n",
    "        if isSoftDoughContent and isSoftDoughTemperature and isSoftDoughCurrent:\n",
    "             return self.classes[2]\n",
    "        \n",
    "        #Classification: Dough [3]\n",
    "        isDoughContent = (self.content_segment==2)\n",
    "        isDoughTemperature = (self.temp_segment==3)\n",
    "        isDoughCurrent = (self.current_segment==1)\n",
    "        if isDoughContent and isDoughTemperature and isDoughCurrent:\n",
    "             return self.classes[3]\n",
    "                              \n",
    "        # Classification: Dry Dough [4]\n",
    "        isDryDoughContent = (self.content_segment==1)\n",
    "        isDryDoughTemperature = (self.temp_segment==3)\n",
    "        isDryDoughCurrent = (self.current_segment==1)\n",
    "        if isDryDoughContent and isDryDoughTemperature and isDryDoughCurrent:\n",
    "             return self.classes[4]\n",
    "        \n",
    "        #Classification: Crumbs [5]\n",
    "        isCrumbsContent = (self.content_segment==0)\n",
    "        isCrumbsTemperature = (self.temp_segment in range(2,4))\n",
    "        isCrumbsCurrent = (self.current_segment==0)\n",
    "        if isCrumbsContent and isCrumbsTemperature and isCrumbsCurrent:\n",
    "             return self.classes[5]\n",
    "        \n",
    "        return \"No Classification\"\n",
    "    "
   ]
  },
  {
   "cell_type": "code",
   "execution_count": 255,
   "metadata": {},
   "outputs": [],
   "source": [
    "doughClassifier = FuzzyDecisionFusion()"
   ]
  },
  {
   "cell_type": "code",
   "execution_count": 278,
   "metadata": {},
   "outputs": [],
   "source": [
    "#Test Cases:\n",
    "test1 = [40,97,10] #expect: liquid\n",
    "test2 = [100,95,0] #expect: liquid\n",
    "test3 = [33,85,70] #expect: oobleck\n",
    "test4 = [30,90,80] #expect: oobleck\n",
    "test5 = [32,93,50] #expect: soft dough\n",
    "test6 = [33,88,60] #expect: soft dough\n",
    "test7 = [33,100,40] #expect: dough\n",
    "test8 = [34,100,50] #expect: dough\n",
    "test9 = [20,100,40] #expect: dry dough \n",
    "test10 = [25,100,50] #expect: dry dough\n",
    "test11 = [5,97,10] #expect: crumbs\n",
    "test12 = [10,100,0] #expect: crumbs"
   ]
  },
  {
   "cell_type": "code",
   "execution_count": 284,
   "metadata": {},
   "outputs": [
    {
     "data": {
      "text/plain": [
       "'Liquid'"
      ]
     },
     "execution_count": 284,
     "metadata": {},
     "output_type": "execute_result"
    }
   ],
   "source": [
    "params = test1\n",
    "\n",
    "doughClassifier.set_params(params)\n",
    "doughClassifier.decision()"
   ]
  },
  {
   "cell_type": "code",
   "execution_count": null,
   "metadata": {},
   "outputs": [],
   "source": []
  },
  {
   "cell_type": "code",
   "execution_count": null,
   "metadata": {},
   "outputs": [],
   "source": []
  },
  {
   "cell_type": "code",
   "execution_count": null,
   "metadata": {},
   "outputs": [],
   "source": []
  },
  {
   "cell_type": "code",
   "execution_count": null,
   "metadata": {},
   "outputs": [],
   "source": []
  },
  {
   "cell_type": "code",
   "execution_count": null,
   "metadata": {},
   "outputs": [],
   "source": []
  },
  {
   "cell_type": "code",
   "execution_count": null,
   "metadata": {},
   "outputs": [],
   "source": []
  },
  {
   "cell_type": "code",
   "execution_count": null,
   "metadata": {},
   "outputs": [],
   "source": []
  },
  {
   "cell_type": "code",
   "execution_count": null,
   "metadata": {},
   "outputs": [],
   "source": []
  }
 ],
 "metadata": {
  "kernelspec": {
   "display_name": "Python 3",
   "language": "python",
   "name": "python3"
  },
  "language_info": {
   "codemirror_mode": {
    "name": "ipython",
    "version": 3
   },
   "file_extension": ".py",
   "mimetype": "text/x-python",
   "name": "python",
   "nbconvert_exporter": "python",
   "pygments_lexer": "ipython3",
   "version": "3.8.5"
  }
 },
 "nbformat": 4,
 "nbformat_minor": 4
}
